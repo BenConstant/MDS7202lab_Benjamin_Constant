{
 "cells": [
  {
   "cell_type": "code",
   "execution_count": null,
   "id": "a90f56b0",
   "metadata": {},
   "outputs": [],
   "source": [
    "def custom_features(dataframe_in):\n",
    "    df                 = dataframe_in.copy()\n",
    "    ID_clientes        = set(df['Customer ID'])\n",
    "    fecha_actual_datos = max(df['InvoiceDate'])\n",
    "    dict_out           = {}\n",
    "    \n",
    "    for ID in ID_clientes:\n",
    "        dict_out[str(ID)] = {}\n",
    "        dict_out[str(ID)]['Customer ID'] = ID\n",
    "        dict_out[str(ID)]['Length']      = (max(df.loc[ID,'InvoiceDate'])-min(df.loc[ID,'InvoiceDate'])).day\n",
    "        dict_out[str(ID)]['Recency']     = (fecha_actual_datos - max(df.loc[ID,'InvoiceDate'])).day\n",
    "        \n",
    "format_string = \"%Y-%m-%d %H:%M:%S\"\n",
    "df = df_retail.copy()\n",
    "df = df.set_index('Customer ID')\n",
    "#df_retail['InvoiceDate'][0].day # Entrega el dia pero en formato int\n",
    "#ID_clientes = set(df_retail['Customer ID'])\n",
    "#df_retail = df_retail.set_index('Customer ID')\n",
    "#len(set(df_retail['Customer ID']))\n",
    "for ID in ID_clientes:\n",
    "    print('Cliente: ',ID)\n",
    "    display(df.loc[ID, :])\n",
    "\n",
    "#fecha_actual_datos = max(df['InvoiceDate'])\n",
    "#df.sample(20)#df.loc[13085.0,'Price'].sum() #- min(df_retail.loc[13085.0,:]['InvoiceDate'])     \n",
    "\n",
    "\n",
    "df_prueba = df_retail.copy()\n",
    "df_fre = pd.pivot_table(df_prueba,\n",
    "                index=['Customer ID','InvoiceDate'],\n",
    "                values = ['Price','Quantity'],\n",
    "                ).reset_index().sort_values(by=['Customer ID','InvoiceDate'])\n",
    "df_fre['count']     = np.ones(len(df_fre))\n",
    "df_fre['Frequency'] = df_fre.groupby('Customer ID')['InvoiceDate'].diff()\n",
    "df_fre['Frequency'] = df_fre['Frequency'].apply(lambda x: int(x.total_seconds()) if x is not pd.NaT else np.nan)\n",
    "df_fre['Frequency'] = df_fre['Frequency'].fillna(0)\n",
    "df_fre = df_fre.groupby('Customer ID')[['Frequency','count']].sum()\n"
   ]
  },
  {
   "cell_type": "code",
   "execution_count": null,
   "id": "7a9571cb",
   "metadata": {},
   "outputs": [],
   "source": [
    "columns_df = ['Invoice', 'StockCode', 'Description', 'Quantity', 'InvoiceDate','Price','Customer ID', 'Country']\n",
    "df = df_retail.copy()\n",
    "df['Cantidad'] = np.ones(len(df['Customer ID']))\n",
    "df_length = df[['Customer ID','InvoiceDate','Price']]\n",
    "df['fecha_max'] = [df['InvoiceDate'].max()]*len(df['Customer ID'])\n",
    "df_Recently =df[['Customer ID','InvoiceDate','fecha_max']]\n",
    "\n",
    "df_2 = df.groupby('Customer ID').agg({'InvoiceDate':'max','fecha_max':'max'})#-df.groupby('Customer ID').agg({'InvoiceDate':'max'})\n",
    "df_2['Recency'] = df_2['fecha_max'] - df_2['InvoiceDate']\n",
    "df_2['Recency'] = df_2['Recency'].dt.days\n",
    "df_2 = pd.DataFrame(df_2['Recency'])\n",
    "\n",
    "df_1          = df.groupby('Customer ID').agg({'InvoiceDate':[\"min\",'max']}).droplevel(0,axis=1)['max']-df.groupby('Customer ID').agg({'InvoiceDate':[\"min\",'max']}).droplevel(0,axis=1)['min']\n",
    "df_1          = pd.DataFrame(df_1.dt.days).rename(columns={0:'Lenght'})\n",
    "\n",
    "df_3   = df[['Customer ID','InvoiceDate']]\n",
    "df_3 = df_3.groupby('Customer ID').count().rename(columns={'InvoiceDate':'Frequency'})\n",
    "\n",
    "df_4 = df_prueba[['Customer ID','Price','Quantity']].sort_values(by='Customer ID').reset_index()\n",
    "df_4['Monetary'] = df_4['Price']*df_4['Quantity']\n",
    "df_4 = df_4.groupby('Customer ID').agg({'Monetary':'sum'})\n",
    "#df_agrupado = df_4.groupby('Customer ID')['InvoiceDate'].sum()\n",
    "#df_agrupado"
   ]
  }
 ],
 "metadata": {
  "kernelspec": {
   "display_name": "Python 3 (ipykernel)",
   "language": "python",
   "name": "python3"
  },
  "language_info": {
   "codemirror_mode": {
    "name": "ipython",
    "version": 3
   },
   "file_extension": ".py",
   "mimetype": "text/x-python",
   "name": "python",
   "nbconvert_exporter": "python",
   "pygments_lexer": "ipython3",
   "version": "3.11.4"
  }
 },
 "nbformat": 4,
 "nbformat_minor": 5
}
